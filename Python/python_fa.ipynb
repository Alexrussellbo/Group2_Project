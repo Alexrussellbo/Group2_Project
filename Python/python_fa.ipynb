{
 "cells": [
  {
   "cell_type": "code",
   "execution_count": 1,
   "metadata": {},
   "outputs": [],
   "source": [
    "import numpy as np\n",
    "import pandas as pd\n",
    "from glob import glob\n",
    "import matplotlib\n",
    "import matplotlib.pyplot as plt\n",
    "from sklearn import preprocessing\n",
    "from numpy import *"
   ]
  },
  {
   "cell_type": "code",
   "execution_count": 2,
   "metadata": {},
   "outputs": [],
   "source": [
    "from sklearn.decomposition import PCA, FactorAnalysis\n",
    "from sklearn.covariance import ShrunkCovariance, LedoitWolf\n",
    "from sklearn.model_selection import cross_val_score\n",
    "from sklearn.model_selection import GridSearchCV"
   ]
  },
  {
   "cell_type": "code",
   "execution_count": 3,
   "metadata": {},
   "outputs": [],
   "source": [
    "df = pd.read_csv('bfi.csv')"
   ]
  },
  {
   "cell_type": "code",
   "execution_count": 4,
   "metadata": {},
   "outputs": [],
   "source": [
    "del df['age']\n",
    "del df['gender']\n",
    "del df['education']\n",
    "del df['Unnamed: 0']\n",
    "df=df.dropna()"
   ]
  },
  {
   "cell_type": "code",
   "execution_count": 5,
   "metadata": {},
   "outputs": [],
   "source": [
    "cor = mat(df.corr())\n",
    "w,v = np.linalg.eig(cor)\n",
    "nvar=25\n",
    "tot=np.sum(w)\n",
    "w=(nvar/tot)*w\n",
    "cor=np.dot(np.dot(v,np.diag(w)),v.transpose())\n",
    "fill_diagonal(cor, 1-1/cor.I.diagonal()) \n",
    "w,_ = np.linalg.eig(cor)"
   ]
  },
  {
   "cell_type": "code",
   "execution_count": 6,
   "metadata": {},
   "outputs": [
    {
     "data": {
      "image/png": "[encoded data removed]",
      "text/plain": [
       "<Figure size 576x360 with 1 Axes>"
      ]
     },
     "metadata": {},
     "output_type": "display_data"
    }
   ],
   "source": [
    "fig = plt.figure(figsize=(8,5))\n",
    "plt.plot(range(1,len(w)+1), w, 'ro-', linewidth=2)\n",
    "plt.axhline(y=1, color='b', linestyle='-')\n",
    "plt.title('Scree Plot')\n",
    "plt.xlabel('Number of factors')\n",
    "plt.ylabel('Eigenvalues of factors')\n",
    "leg = plt.legend(['Eigenvalues'], loc='best', borderpad=0.3, \n",
    "                 shadow=False, prop=matplotlib.font_manager.FontProperties(size='small'),\n",
    "                 markerscale=0.4)\n",
    "leg.get_frame().set_alpha(0.4)\n",
    "leg.draggable(state=True)\n",
    "plt.show()"
   ]
  },
  {
   "cell_type": "code",
   "execution_count": 7,
   "metadata": {},
   "outputs": [
    {
     "name": "stdout",
     "output_type": "stream",
     "text": [
      "     Factor1   Factor2   Factor3   Factor4\n",
      "A1 -0.226687  0.093998 -0.007377 -0.013420\n",
      "A2  0.542422  0.030603  0.154972  0.011014\n",
      "A3  0.640846  0.009598  0.123128  0.013398\n",
      "A4  0.438320 -0.064614  0.235476 -0.138937\n",
      "A5  0.645121 -0.121608  0.090791  0.039497\n",
      "C1  0.085806  0.007177  0.543701  0.215154\n",
      "C2  0.101918  0.089465  0.651983  0.111184\n",
      "C3  0.097541 -0.032617  0.560232 -0.011784\n",
      "C4 -0.076720  0.248365 -0.632005 -0.116322\n",
      "C5 -0.172626  0.301729 -0.546415  0.013301\n",
      "E1 -0.499413  0.062931  0.053258 -0.111204\n",
      "E2 -0.576909  0.263473 -0.073725 -0.108642\n",
      "E3  0.584843  0.012900  0.062361  0.306781\n",
      "E4  0.695974 -0.133051  0.078326 -0.033375\n",
      "E5  0.447418  0.013521  0.280720  0.258260\n",
      "N1 -0.070888  0.748992 -0.062360 -0.036899\n",
      "N2 -0.095046  0.734729 -0.040713  0.023141\n",
      "N3 -0.055609  0.744888 -0.059397 -0.005511\n",
      "N4 -0.258909  0.601013 -0.152009  0.027601\n",
      "N5 -0.052317  0.549468 -0.019533 -0.179215\n",
      "O1  0.202969 -0.006323  0.104372  0.517115\n",
      "O2  0.064475  0.178084 -0.096007 -0.477556\n",
      "O3  0.320167  0.022416  0.064080  0.611863\n",
      "O4 -0.046972  0.229054  0.001080  0.295590\n",
      "O5 -0.003589  0.083179 -0.064602 -0.522385\n"
     ]
    }
   ],
   "source": [
    "from factor_analyzer import FactorAnalyzer\n",
    "fa = FactorAnalyzer()\n",
    "fa.analyze(df, 4, rotation=\"varimax\")\n",
    "print(fa.loadings)"
   ]
  },
  {
   "cell_type": "code",
   "execution_count": 8,
   "metadata": {},
   "outputs": [
    {
     "name": "stdout",
     "output_type": "stream",
     "text": [
      "     Factor1   Factor2   Factor3   Factor4   Factor5\n",
      "A1  0.040465  0.111126  0.022798 -0.077931 -0.428166\n",
      "A2  0.213716  0.029588  0.139037  0.062139  0.626946\n",
      "A3  0.317848  0.009357  0.109331  0.056196  0.650743\n",
      "A4  0.204566 -0.066476  0.230584 -0.112700  0.435624\n",
      "A5  0.393034 -0.122113  0.087869  0.066708  0.537087\n",
      "C1  0.070184  0.010416  0.545824  0.209584  0.038878\n",
      "C2  0.033270  0.089574  0.648731  0.115434  0.102782\n",
      "C3  0.023907 -0.030855  0.557036 -0.005183  0.111578\n",
      "C4 -0.064984  0.240410 -0.633806 -0.107535 -0.037498\n",
      "C5 -0.176395  0.290318 -0.562467  0.036822 -0.047525\n",
      "E1 -0.574835  0.042819  0.033144 -0.058795 -0.104813\n",
      "E2 -0.678731  0.244743 -0.102483 -0.042010 -0.112517\n",
      "E3  0.536816  0.024180  0.083010  0.280877  0.257906\n",
      "E4  0.646833 -0.115614  0.102023 -0.073422  0.306101\n",
      "E5  0.504069  0.036145  0.312899  0.213739  0.090354\n",
      "N1  0.078923  0.786807 -0.045997 -0.084704 -0.216363\n",
      "N2  0.027301  0.754109 -0.030568 -0.010304 -0.193744\n",
      "N3 -0.061430  0.731721 -0.067084 -0.004217 -0.027712\n",
      "N4 -0.345388  0.590602 -0.178902  0.075225  0.005886\n",
      "N5 -0.161291  0.537858 -0.037309 -0.149769  0.100931\n",
      "O1  0.213005 -0.002224  0.115080  0.504907  0.061550\n",
      "O2  0.004560  0.175788 -0.099729 -0.468925  0.081809\n",
      "O3  0.310956  0.026736  0.076873  0.596007  0.126889\n",
      "O4 -0.191196  0.220582 -0.021906  0.369012  0.155475\n",
      "O5 -0.005347  0.085401 -0.062730 -0.533778 -0.010384\n"
     ]
    }
   ],
   "source": [
    "fa = FactorAnalyzer()\n",
    "fa.analyze(df, 5, rotation=\"varimax\")\n",
    "print(fa.loadings)"
   ]
  },
  {
   "cell_type": "code",
   "execution_count": null,
   "metadata": {},
   "outputs": [],
   "source": []
  }
 ],
 "metadata": {
  "kernelspec": {
   "display_name": "Python 3",
   "language": "python",
   "name": "python3"
  },
  "language_info": {
   "codemirror_mode": {
    "name": "ipython",
    "version": 3
   },
   "file_extension": ".py",
   "mimetype": "text/x-python",
   "name": "python",
   "nbconvert_exporter": "python",
   "pygments_lexer": "ipython3",
   "version": "3.6.3"
  }
 },
 "nbformat": 4,
 "nbformat_minor": 2
}
